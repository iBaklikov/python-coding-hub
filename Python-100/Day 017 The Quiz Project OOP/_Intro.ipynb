{
 "cells": [
  {
   "cell_type": "markdown",
   "metadata": {},
   "source": [
    "PascalCase  class nameing\n",
    "\n",
    "camelCase\n",
    "\n",
    "snake_case variables\n",
    "\n",
    "constructor - (initialize) values at the beginning of a program or subprogram -> __init__ (self) function #initialize attributes what object has\n"
   ]
  }
 ],
 "metadata": {
  "language_info": {
   "name": "python"
  }
 },
 "nbformat": 4,
 "nbformat_minor": 2
}
