{
 "cells": [
  {
   "cell_type": "markdown",
   "metadata": {},
   "source": [
    "The principle of Encapsulation.\n",
    "\n",
    "The principle of Abstraction.\n",
    "\n",
    "Why they are important in Object-Oriented Programming.\n",
    "\n",
    "How to work with public and non-public attributes in Python.\n",
    "\n",
    "The process of name mangling in Python and how it works."
   ]
  },
  {
   "cell_type": "markdown",
   "metadata": {},
   "source": [
    "# Encapsulation\n",
    "- \"Bunding\" of dat and actions into a single unit (class)\n",
    "- Applied through the principle of information hiding\n",
    "- You should restrict access to your data unless there is an important reason not to do so\n",
    "- To do this, you  can define non-public attributes in Python\n",
    "\n",
    "          *---          \n",
    "          | Public       | By Convention  ==> _<attribute>\n",
    "          |              |  (Protected)\n",
    "ACCESS ==>|             ==\n",
    "          |              | Functionally   ==> __<attribute>\n",
    "          | Non-Public   | (Private)\n",
    "          *---\n",
    "\n",
    "!NOTE: The term \"private\" and \"protected\" are symbolic in Python. NO attribute is completely private.\n",
    "\n",
    "\n"
   ]
  },
  {
   "cell_type": "code",
   "execution_count": null,
   "metadata": {
    "vscode": {
     "languageId": "plaintext"
    }
   },
   "outputs": [],
   "source": [
    "Name mangling in Python is a process that occurs when an identifier has two leading underscores and one trailing underscore. In this process, the identifier is textually replaced with _classname__identifier, where classname represents the name of the current class. Let’s break it down further:\n",
    "\n",
    "Class Variables with Double Underscores:\n",
    "When you define a class variable with double underscores (e.g., __name), it becomes private within the class.\n",
    "This means that the variable is not directly accessible from outside the class.\n",
    "For example:\n",
    "Python\n",
    "\n",
    "class Student:\n",
    "    def __init__(self, name):\n",
    "        self.__name = name\n",
    "\n",
    "s1 = Student(\"Santhosh\")\n",
    "print(s1.__name)  # Raises an error\n",
    "AI-generated code. Review and use carefully. More info on FAQ.The class variable __name is not accessible outside the class.\n",
    "Name Mangling Process:\n",
    "The Python interpreter performs name mangling by replacing the double underscore with _classname__.\n",
    "Using the dir() method, we can see the modified attribute name:\n",
    "Python\n",
    "\n",
    "print(dir(s1))\n",
    "# Output: ['_Student__name', '__class__', '__delattr__', ...]\n",
    "AI-generated code. Review and use carefully. More info on FAQ.The class variable __name is transformed to _Student__name.\n",
    "Accessing Name-Mangled Variables:\n",
    "To access the class variable from outside the class, you can add _classname to it.\n",
    "It’s important to note that name mangling is closest to private, but not exactly private:\n",
    "Python\n",
    "\n",
    "print(s1._Student__name)  # Output: Santhosh\n",
    "AI-generated code. Review and use carefully. More info on FAQ.\n",
    "Method Overriding and Name Mangling:\n",
    "Name mangling helps avoid name clashes with names defined by subclasses.\n",
    "Any identifier of the form __geek (with at least two leading underscores or at most one trailing underscore) is replaced with _classname__geek.\n",
    "As long as it occurs within the class definition, this mangling is done123.\n",
    "In summary, name mangling ensures that class variables are accessible from outside the class by adding the appropriate prefix, while still maintaining some level of privacy."
   ]
  },
  {
   "cell_type": "code",
   "execution_count": null,
   "metadata": {
    "vscode": {
     "languageId": "plaintext"
    }
   },
   "outputs": [],
   "source": []
  },
  {
   "cell_type": "markdown",
   "metadata": {},
   "source": [
    "# Abstraction\n",
    "Show only the essential attributes and hide unnecessary details from the user.\n",
    "This allow to hide the complexity from the user.\n",
    "- Different facets and expressions:\n",
    "    - The interface of a component should be independent of the implementation.\n",
    "    - Relying on more general or \"abstract\" types of objects to avoid code repetition with the use of inheritance\n",
    "\n",
    "Class has INTERFACE and IMPLEMENTATION\n",
    "\n",
    "Interface - the \"visible\" part of the class that the program can interact with.\n",
    "\n",
    "Implementation - the internal part of the class with the code that perform the functionality.\n",
    "\n",
    "Abstraction also allows us to abstrace out common parts of the code to **avoid repetition**.\n",
    "\n",
    "\n",
    "\n"
   ]
  }
 ],
 "metadata": {
  "language_info": {
   "name": "python"
  }
 },
 "nbformat": 4,
 "nbformat_minor": 2
}
