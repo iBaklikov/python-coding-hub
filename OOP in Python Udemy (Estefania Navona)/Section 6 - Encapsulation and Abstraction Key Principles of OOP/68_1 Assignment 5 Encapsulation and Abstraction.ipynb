{
 "cells": [
  {
   "cell_type": "code",
   "execution_count": 1,
   "metadata": {},
   "outputs": [
    {
     "name": "stdout",
     "output_type": "stream",
     "text": [
      "311\n",
      "978-1-5387-5014-8\n",
      "Grant Central\n"
     ]
    }
   ],
   "source": [
    "class Book:\n",
    "\n",
    "    def __init__(self, title, author, num_pages, ISBN, publisher):\n",
    "        self.title = title\n",
    "        self.author = author\n",
    "        self._num_pages = num_pages\n",
    "        self._ISBN = ISBN\n",
    "        self._publisher = publisher\n",
    "\n",
    "my_book = Book(\"Cari Mora\", \"Thomas Harris\", 311, \"978-1-5387-5014-8\", \"Grant Central\")\n",
    "\n",
    "print(my_book._num_pages)\n",
    "print(my_book._ISBN)\n",
    "print(my_book._publisher)"
   ]
  }
 ],
 "metadata": {
  "kernelspec": {
   "display_name": "Python 3",
   "language": "python",
   "name": "python3"
  },
  "language_info": {
   "codemirror_mode": {
    "name": "ipython",
    "version": 3
   },
   "file_extension": ".py",
   "mimetype": "text/x-python",
   "name": "python",
   "nbconvert_exporter": "python",
   "pygments_lexer": "ipython3",
   "version": "3.11.0"
  }
 },
 "nbformat": 4,
 "nbformat_minor": 2
}
