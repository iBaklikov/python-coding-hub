{
 "cells": [
  {
   "cell_type": "markdown",
   "metadata": {},
   "source": [
    "# Public Attribute\n",
    "\n",
    "An attribute that can be accessed and modified directly without access restrictions."
   ]
  },
  {
   "cell_type": "code",
   "execution_count": null,
   "metadata": {},
   "outputs": [],
   "source": [
    "class Car:\n",
    "\n",
    "    def __init__(self, brand, model, year):\n",
    "        self.brand = brand\n",
    "        self.model = model\n",
    "        self.year = year\n",
    "\n",
    "my_car = Car(\"Porche\", \"911 Carrera\", 2020)\n",
    "\n",
    "print(my_car.year)\n",
    "\n",
    "my_car.year = 5600\n",
    "print(my_car.year)"
   ]
  },
  {
   "cell_type": "markdown",
   "metadata": {},
   "source": [
    "# Non-Public Attribute\n",
    "\n",
    "- An attribute that **shouldn't** be accessed or modified outside of the class\n",
    "\n",
    "self._<attribute>\n",
    "\n",
    "self.__<attribute>"
   ]
  },
  {
   "cell_type": "code",
   "execution_count": 4,
   "metadata": {},
   "outputs": [
    {
     "name": "stdout",
     "output_type": "stream",
     "text": [
      "2020\n"
     ]
    }
   ],
   "source": [
    "class Car:\n",
    "\n",
    "    def __init__(self, brand, model, year):\n",
    "        self.brand = brand\n",
    "        self.model = model\n",
    "        self._year = year\n",
    "\n",
    "my_car = Car(\"Porche\", \"911 Carrera\", 2020)\n",
    "\n",
    "print(my_car._year)\n",
    "\n"
   ]
  },
  {
   "cell_type": "code",
   "execution_count": 5,
   "metadata": {},
   "outputs": [
    {
     "name": "stdout",
     "output_type": "stream",
     "text": [
      "15\n"
     ]
    }
   ],
   "source": [
    "class Student:\n",
    "\n",
    "    def __init__(self, student_id, name, age, gpa):\n",
    "        self.student_id = student_id\n",
    "        self.name = name\n",
    "        self._age = age # do not modify outside\n",
    "        self.gpa = gpa\n",
    "\n",
    "\n",
    "student_nora = Student(\"2345AFS\", \"Nora Nav\", 15, 3.96)\n",
    "\n",
    "print(student_nora._age)"
   ]
  },
  {
   "cell_type": "code",
   "execution_count": 7,
   "metadata": {},
   "outputs": [
    {
     "name": "stdout",
     "output_type": "stream",
     "text": [
      "[]\n"
     ]
    }
   ],
   "source": [
    "class Backpack:\n",
    "\n",
    "    def __init__(self):\n",
    "        self._items = []\n",
    "\n",
    "my_backpack = Backpack()\n",
    "\n",
    "print(my_backpack._items)"
   ]
  },
  {
   "cell_type": "code",
   "execution_count": 10,
   "metadata": {},
   "outputs": [
    {
     "name": "stdout",
     "output_type": "stream",
     "text": [
      "1\n",
      "2\n",
      "3\n"
     ]
    }
   ],
   "source": [
    "class Movie:\n",
    "\n",
    "    id_counter = 1\n",
    "\n",
    "    def __init__(self, title, year, language, rating):\n",
    "        self._id = Movie.id_counter\n",
    "        self.title = title\n",
    "        self.year = year\n",
    "        self.language = language\n",
    "        self.rating = rating\n",
    "\n",
    "        Movie.id_counter += 1\n",
    "\n",
    "my_movie = Movie(\"Pride and Prejudice\", 2002, \"English\", 4.7)\n",
    "your_movie = Movie(\"Sense and Sensibility\", 1995, \"English\", 4.6)\n",
    "\n",
    "print(my_movie._id)\n",
    "print(your_movie._id)\n",
    "\n",
    "print(my_movie.id_counter)"
   ]
  }
 ],
 "metadata": {
  "kernelspec": {
   "display_name": "Python 3",
   "language": "python",
   "name": "python3"
  },
  "language_info": {
   "codemirror_mode": {
    "name": "ipython",
    "version": 3
   },
   "file_extension": ".py",
   "mimetype": "text/x-python",
   "name": "python",
   "nbconvert_exporter": "python",
   "pygments_lexer": "ipython3",
   "version": "3.11.0"
  }
 },
 "nbformat": 4,
 "nbformat_minor": 2
}
