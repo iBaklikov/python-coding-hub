{
 "cells": [
  {
   "cell_type": "markdown",
   "metadata": {},
   "source": [
    "**Default Arguments**\n",
    "Default values assigned to parameters when their correspoding afruments are omitted.\n",
    "<parameter> = <value>\n",
    ">>! Don't use space around the (=) sign when used to indicate a keyword argument. or when used to indicate a default value for an unannotated function parameter.  "
   ]
  },
  {
   "cell_type": "code",
   "execution_count": null,
   "metadata": {},
   "outputs": [],
   "source": [
    "class Circle:\n",
    "\n",
    "    def __init__(self, radius=5):\n",
    "        self.radius = radius\n",
    "\n",
    "my_circle = Circle()\n",
    "print(my_circle.radius)\n",
    "\n",
    "my_circle = Circle(8)\n",
    "print(my_circle.radius)"
   ]
  },
  {
   "cell_type": "markdown",
   "metadata": {},
   "source": [
    "The default parameters ==MUST== be the last parameters in the list of parameters"
   ]
  },
  {
   "cell_type": "markdown",
   "metadata": {},
   "source": [
    "Don’t use spaces around the = sign when used to indicate a keyword argument, or when used to indicate a default value for an unannotated function parameter.\n",
    "\n",
    "Based on these guidelines, the following style would be correct:\n",
    "\n",
    "def __init__(self, name, age=10):\n",
    "\n",
    "However, this would not be correct:\n",
    "\n",
    "def __init__(self, name, age = 10):\n",
    "\n",
    "The spaces should be omitted around the equal sign."
   ]
  }
 ],
 "metadata": {
  "kernelspec": {
   "display_name": "Python 3",
   "language": "python",
   "name": "python3"
  },
  "language_info": {
   "codemirror_mode": {
    "name": "ipython",
    "version": 3
   },
   "file_extension": ".py",
   "mimetype": "text/x-python",
   "name": "python",
   "nbconvert_exporter": "python",
   "pygments_lexer": "ipython3",
   "version": "3.11.0"
  }
 },
 "nbformat": 4,
 "nbformat_minor": 2
}
