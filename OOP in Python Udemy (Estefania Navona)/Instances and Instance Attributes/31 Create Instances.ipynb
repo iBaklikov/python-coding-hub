{
 "cells": [
  {
   "cell_type": "markdown",
   "metadata": {},
   "source": [
    "**self** is \"Skipped\" in the arguments list when we create instance\n"
   ]
  },
  {
   "cell_type": "code",
   "execution_count": 1,
   "metadata": {},
   "outputs": [
    {
     "name": "stdout",
     "output_type": "stream",
     "text": [
      "<__main__.Backpack object at 0x00000263ECCEB710>\n"
     ]
    }
   ],
   "source": [
    "\"\"\"\n",
    "NO ARGUMENTS\n",
    "\"\"\"\n",
    "class Backpack:\n",
    "\n",
    "    def __init__(self):\n",
    "        self.itmes = []\n",
    "\n",
    "\n",
    "my_backpack = Backpack()\n",
    "\n",
    "print(my_backpack)"
   ]
  },
  {
   "cell_type": "code",
   "execution_count": 4,
   "metadata": {},
   "outputs": [],
   "source": [
    "\"\"\"\n",
    "One Argument\n",
    "\"\"\"\n",
    "class Circle:\n",
    "\n",
    "    def __init__(self, radius):\n",
    "        self.radius = radius\n",
    "\n",
    "\n",
    "my_circle = Circle(5)"
   ]
  },
  {
   "cell_type": "code",
   "execution_count": 5,
   "metadata": {},
   "outputs": [],
   "source": [
    "\"\"\"\n",
    "Multiple Parameters\n",
    "\"\"\"\n",
    "class Rectangel:\n",
    "\n",
    "    def __init__(self, length, width):\n",
    "        self.length = length\n",
    "        self.width = width\n",
    "\n",
    "\n",
    "my_rectangel = Rectangel(3,6)"
   ]
  },
  {
   "cell_type": "markdown",
   "metadata": {},
   "source": [
    "Why do we skip self in the list of arguments?\n",
    "\n",
    "Let's answer this question right now.\n",
    "\n",
    "We do this because the value of self is assigned automatically by the Python interpreter behind the scenes when the code runs. Its value is a reference to the instance in memory."
   ]
  },
  {
   "cell_type": "code",
   "execution_count": 6,
   "metadata": {},
   "outputs": [
    {
     "name": "stdout",
     "output_type": "stream",
     "text": [
      "<__main__.House object at 0x00000263EDDCC850>\n"
     ]
    }
   ],
   "source": [
    "class House:\n",
    "\t\n",
    "    def __init__(self, price):\n",
    "        print(self) # New print statement\n",
    "        self.price = price\n",
    " \n",
    "my_house = House(14000)"
   ]
  }
 ],
 "metadata": {
  "kernelspec": {
   "display_name": "Python 3",
   "language": "python",
   "name": "python3"
  },
  "language_info": {
   "codemirror_mode": {
    "name": "ipython",
    "version": 3
   },
   "file_extension": ".py",
   "mimetype": "text/x-python",
   "name": "python",
   "nbconvert_exporter": "python",
   "pygments_lexer": "ipython3",
   "version": "3.11.0"
  }
 },
 "nbformat": 4,
 "nbformat_minor": 2
}
