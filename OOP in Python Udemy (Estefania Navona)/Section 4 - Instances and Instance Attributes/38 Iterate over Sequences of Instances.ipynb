{
 "cells": [
  {
   "cell_type": "markdown",
   "metadata": {},
   "source": [
    "For Loops and Instances\n",
    "Let's see an example.\n",
    "\n",
    "Here we have a Player class with instance attributes x and y, the coordinates of the player instance in a 2D plane:\n",
    "\n",
    "\n",
    "\n",
    "class Player:\n",
    " \n",
    "    def __init__(self, x, y):\n",
    "        self.x = x\n",
    "        self.y = y\n",
    "\n",
    "\n",
    "We create three instances:\n",
    "\n",
    "\n",
    "\n",
    "player1 = Player(5, 6)\n",
    "player2 = Player(2, 4)\n",
    "player3 = Player(3, 6)\n",
    "\n",
    "\n",
    "And we can store these instances in a list:\n",
    "\n",
    "\n",
    "\n",
    "players = [player1, player2, player3]\n",
    "\n",
    "\n",
    "Then, if we need to do something with each one of these instances, we can use a for loop to iterate over them one by one:\n",
    "\n",
    "\n",
    "\n",
    "for player in players:\n",
    "    print(f\"X: {player.x} Y: {player.y}\")\n",
    "\n",
    "\n",
    "In this case, we are printing the coordinates.\n",
    "\n",
    "Notice that we are iterating over the instances with a for loop and assigning each instance to the loop variable player one by one, one per iteration.\n",
    "\n",
    "This is the output:\n",
    "\n",
    "X: 5 Y: 6\n",
    "X: 2 Y: 4\n",
    "X: 3 Y: 6\n",
    "\n",
    "\n",
    "◼️ For Loop\n",
    "Let's see the for loop in more detail:\n",
    "\n",
    "\n",
    "\n",
    "for player in players:\n",
    "    print(f\"X: {player.x} Y: {player.y}\")\n",
    "\n",
    "\n",
    "In the first iteration, the first element of the list (player1) is assigned to the loop variable player. We get its coordinates with player.x and player.y and then we print them with the print() function.\n",
    "\n",
    "In the second iteration, the second element of the list (player2) is assigned to the loop variable player. We get its coordinates with player.x and player.y and then we print them with the print() function.\n",
    "\n",
    "The same occurs in the third iteration of the loop for player3.\n",
    "\n",
    "💡 Tip: you can assign any descriptive name to the loop variable. To make your code more readable, it is recommended to assign a name that represents the instances. In this example, we named the loop variable player since it will store player instances.\n",
    "\n",
    "\n",
    "\n",
    "◼️ Syntax\n",
    "This is the general syntax to write a for loop that iterates over a sequence of instances (a list or a tuple):\n",
    "\n",
    "\n",
    "\n",
    "for <instance> in <list/tuple_of_instances>:\n",
    "    # Code that works with the instance"
   ]
  },
  {
   "cell_type": "code",
   "execution_count": 1,
   "metadata": {},
   "outputs": [
    {
     "name": "stdout",
     "output_type": "stream",
     "text": [
      "x=1, y=2\n",
      "x=2, y=24\n",
      "x=21, y=42\n"
     ]
    },
    {
     "ename": "",
     "evalue": "",
     "output_type": "error",
     "traceback": [
      "\u001b[1;31mThe Kernel crashed while executing code in the current cell or a previous cell. \n",
      "\u001b[1;31mPlease review the code in the cell(s) to identify a possible cause of the failure. \n",
      "\u001b[1;31mClick <a href='https://aka.ms/vscodeJupyterKernelCrash'>here</a> for more info. \n",
      "\u001b[1;31mView Jupyter <a href='command:jupyter.viewOutput'>log</a> for further details."
     ]
    }
   ],
   "source": [
    "class Player:\n",
    "\n",
    "    def __init__(self, x, y):\n",
    "        self.x = x\n",
    "        self.y = y\n",
    "\n",
    "player1 = Player(1,2)\n",
    "player2 = Player(2,24)\n",
    "player3 = Player(21,42)\n",
    "\n",
    "players = [player1, player2, player3]\n",
    "\n",
    "for player in players:\n",
    "    print(f'x={player.x}, y={player.y}')\n",
    "\n"
   ]
  }
 ],
 "metadata": {
  "kernelspec": {
   "display_name": "Python 3",
   "language": "python",
   "name": "python3"
  },
  "language_info": {
   "codemirror_mode": {
    "name": "ipython",
    "version": 3
   },
   "file_extension": ".py",
   "mimetype": "text/x-python",
   "name": "python",
   "nbconvert_exporter": "python",
   "pygments_lexer": "ipython3",
   "version": "3.11.0"
  }
 },
 "nbformat": 4,
 "nbformat_minor": 2
}
