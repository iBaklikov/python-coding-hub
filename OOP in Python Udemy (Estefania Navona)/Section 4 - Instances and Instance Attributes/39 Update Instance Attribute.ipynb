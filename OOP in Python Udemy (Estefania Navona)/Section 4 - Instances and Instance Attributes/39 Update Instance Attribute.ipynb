{
 "cells": [
  {
   "cell_type": "markdown",
   "metadata": {},
   "source": [
    "<objec>.<attribute> = <new_value>\n",
    "\n",
    "self.<attribute> = <new_value>"
   ]
  },
  {
   "cell_type": "code",
   "execution_count": null,
   "metadata": {},
   "outputs": [],
   "source": [
    "class Backpack:\n",
    "\n",
    "    def __init__(self, color):\n",
    "        self.items = []\n",
    "        self.color = color\n",
    "\n",
    "my_backpack = Backpack(\"Blue\")\n",
    "your_backpack = Backpack(\"Red\")\n",
    "print(my_backpack.color)\n",
    "print(your_backpack.color)\n",
    "\n",
    "\n",
    "my_backpack.color = \"Green\"\n",
    "\n",
    "print(my_backpack.color)\n",
    "print(your_backpack.color)\n"
   ]
  },
  {
   "cell_type": "markdown",
   "metadata": {},
   "source": [
    "each objec is independet"
   ]
  },
  {
   "cell_type": "code",
   "execution_count": 5,
   "metadata": {},
   "outputs": [
    {
     "name": "stdout",
     "output_type": "stream",
     "text": [
      "6\n",
      "Yellow\n",
      "10\n",
      "Black\n"
     ]
    }
   ],
   "source": [
    "class Circle:\n",
    "    \n",
    "    def __init__(self, radius, color):\n",
    "        self.radius = radius\n",
    "        self.color = color\n",
    "\n",
    "\n",
    "my_circle = Circle(6, \"Yellow\")\n",
    "\n",
    "print (my_circle.radius)\n",
    "print (my_circle.color)\n",
    "\n",
    "my_circle.radius = 10\n",
    "my_circle.color = \"Black\"\n",
    "\n",
    "print (my_circle.radius)\n",
    "print (my_circle.color)\n"
   ]
  }
 ],
 "metadata": {
  "kernelspec": {
   "display_name": "Python 3",
   "language": "python",
   "name": "python3"
  },
  "language_info": {
   "codemirror_mode": {
    "name": "ipython",
    "version": 3
   },
   "file_extension": ".py",
   "mimetype": "text/x-python",
   "name": "python",
   "nbconvert_exporter": "python",
   "pygments_lexer": "ipython3",
   "version": "3.11.0"
  }
 },
 "nbformat": 4,
 "nbformat_minor": 2
}
