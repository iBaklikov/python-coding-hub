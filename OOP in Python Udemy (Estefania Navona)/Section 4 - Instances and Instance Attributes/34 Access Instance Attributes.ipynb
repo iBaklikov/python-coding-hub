{
 "cells": [
  {
   "cell_type": "markdown",
   "metadata": {},
   "source": [
    "__Outside of object__\n",
    "Use **Dot Notation**\n",
    "Syntax used to access the members of an objects (its variables and methods)\n",
    "\n",
    "__Inside of the class__\n",
    "self.Atribute\n",
    "self.Method()"
   ]
  },
  {
   "cell_type": "code",
   "execution_count": 3,
   "metadata": {},
   "outputs": [
    {
     "name": "stdout",
     "output_type": "stream",
     "text": [
      "['Water Bottle', 'Pancils']\n",
      "['Water Bottle', 'Pancils']\n"
     ]
    }
   ],
   "source": [
    "class Backpack:\n",
    "    # inside class\n",
    "    def __init__(self):\n",
    "        self.items = [\"Water Bottle\", \"Pancils\"]\n",
    "        print(self.items)\n",
    "\n",
    "\n",
    "my_backpack = Backpack()\n",
    "\n",
    "# outside the object\n",
    "print(my_backpack.items)"
   ]
  },
  {
   "cell_type": "markdown",
   "metadata": {},
   "source": [
    "If you try to refer attribute that do not exists you will have error:\n",
    "**AttributeError: 'ObkectName' object has no attribute 'attributename'**"
   ]
  },
  {
   "cell_type": "code",
   "execution_count": null,
   "metadata": {},
   "outputs": [],
   "source": [
    "class Movie:\n",
    "\n",
    "    def __init__(self, title, year, language, rating):\n",
    "        self.title = title\n",
    "        self.year = year\n",
    "        self.language = language\n",
    "        self.rating = rating\n",
    "\n",
    "\n",
    "my_favorite_movie = Movie(\"Pride and Prejudice\", 2005, \"English\", 4.8)\n",
    "your_favorite_movie = Movie(\"Titanic\", 1997, \"English\", 4.6)\n",
    "\n",
    "print(\"My favorite movies\")\n",
    "print(my_favorite_movie.title)\n",
    "print(my_favorite_movie.year)\n",
    "print(my_favorite_movie.language)\n",
    "print(my_favorite_movie.rating)\n",
    "\n",
    "print(\"My favorite movies\")\n",
    "print(your_favorite_movie.title)\n",
    "print(your_favorite_movie.year)\n",
    "print(your_favorite_movie.language)\n",
    "print(your_favorite_movie.rating)"
   ]
  }
 ],
 "metadata": {
  "kernelspec": {
   "display_name": "Python 3",
   "language": "python",
   "name": "python3"
  },
  "language_info": {
   "codemirror_mode": {
    "name": "ipython",
    "version": 3
   },
   "file_extension": ".py",
   "mimetype": "text/x-python",
   "name": "python",
   "nbconvert_exporter": "python",
   "pygments_lexer": "ipython3",
   "version": "3.11.0"
  }
 },
 "nbformat": 4,
 "nbformat_minor": 2
}
