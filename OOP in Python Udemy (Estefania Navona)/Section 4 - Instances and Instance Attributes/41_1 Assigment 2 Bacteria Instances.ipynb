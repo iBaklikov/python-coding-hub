{
 "cells": [
  {
   "cell_type": "code",
   "execution_count": 2,
   "metadata": {},
   "outputs": [
    {
     "name": "stdout",
     "output_type": "stream",
     "text": [
      "Staphylococcus aureus\n"
     ]
    }
   ],
   "source": [
    "class Bacteria:\n",
    "    \n",
    "    def __init__(self, x, y, name, cell_wall, peptidoglycan, reproduction, shape, life_count=3):\n",
    "        self.x = x\n",
    "        self.y = y\n",
    "        self.life_count = life_count\n",
    "        self.name = name\n",
    "        self.cell_wall = cell_wall\n",
    "        self.peptidoglycan = peptidoglycan\n",
    "        self.reproduction = reproduction\n",
    "        self.shape = shape # Bacilli, Cocci, Spirilli\n",
    "\n",
    "# Create 3 instances\n",
    "e_coli = Bacteria(\n",
    "                x = 10,\n",
    "                y = 10,\n",
    "                name = \"Escherichia coli\", \n",
    "                cell_wall = \"Peptidoglycan\", \n",
    "                peptidoglycan = True, \n",
    "                reproduction = \"Binary fission\", \n",
    "                shape = \"Bacilli\")\n",
    "\n",
    "streptococcus = Bacteria(\n",
    "                x = 1,\n",
    "                y = 20,\n",
    "                name = \"Streptococcus pyogenes\", \n",
    "                cell_wall = \"Peptidoglycan\",\n",
    "                peptidoglycan=True, \n",
    "                reproduction=\"Binary fission\", \n",
    "                shape=\"Cocci\",\n",
    "                life_count=100)\n",
    "\n",
    "staph_aureus = Bacteria(\n",
    "                x =20,\n",
    "                y = 1,\n",
    "                name=\"Staphylococcus aureus\", \n",
    "                cell_wall=\"Peptidoglycan\", \n",
    "                peptidoglycan=True, \n",
    "                reproduction=\"Binary fission\", \n",
    "                shape=\"Cocci\")\n",
    "\n",
    "print(staph_aureus.name)\n"
   ]
  },
  {
   "cell_type": "code",
   "execution_count": 4,
   "metadata": {},
   "outputs": [
    {
     "ename": "",
     "evalue": "",
     "output_type": "error",
     "traceback": [
      "\u001b[1;31mThe Kernel crashed while executing code in the current cell or a previous cell. \n",
      "\u001b[1;31mPlease review the code in the cell(s) to identify a possible cause of the failure. \n",
      "\u001b[1;31mClick <a href='https://aka.ms/vscodeJupyterKernelCrash'>here</a> for more info. \n",
      "\u001b[1;31mView Jupyter <a href='command:jupyter.viewOutput'>log</a> for further details."
     ]
    }
   ],
   "source": [
    "class Donut:\n",
    "\t\t\n",
    "    def __init__(self, flavor, toppings, filling, size):\n",
    "        self.flavor = flavor\n",
    "        self.toppings = toppings\n",
    "        self.filling = filling\n",
    "        # size = self.size\n",
    "        self.size = size\n",
    "\n",
    "class Customer:\n",
    "\n",
    "    def __init__(self, name, age, address, favorite_dessert):\n",
    "        self.name = name\n",
    "        self.age = age\n",
    "        self.address = address\n",
    "        self.favorite_dessert = favorite_dessert\n",
    "\n",
    "\n",
    "class Cake:\n",
    "\t\n",
    "    def __init__(self, flavor, price, quality):\n",
    "       self.flavor = flavor\n",
    "       self.price = price\n",
    "       self.quality = quality\n"
   ]
  }
 ],
 "metadata": {
  "kernelspec": {
   "display_name": "Python 3",
   "language": "python",
   "name": "python3"
  },
  "language_info": {
   "codemirror_mode": {
    "name": "ipython",
    "version": 3
   },
   "file_extension": ".py",
   "mimetype": "text/x-python",
   "name": "python",
   "nbconvert_exporter": "python",
   "pygments_lexer": "ipython3",
   "version": "3.11.0"
  }
 },
 "nbformat": 4,
 "nbformat_minor": 2
}
