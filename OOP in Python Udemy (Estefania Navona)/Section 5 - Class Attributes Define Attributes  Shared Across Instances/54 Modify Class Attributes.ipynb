{
 "cells": [
  {
   "cell_type": "markdown",
   "metadata": {},
   "source": [
    "==Changing the value of the class attributes will affect all instances of the class==\n",
    "\n",
    "<ClassName>.<class_attribute> = <new_value>\n"
   ]
  },
  {
   "cell_type": "code",
   "execution_count": null,
   "metadata": {},
   "outputs": [],
   "source": [
    "class Circle:\n",
    "\n",
    "    radius = 5\n",
    "\n",
    "    def __init__(self, color):\n",
    "        self.color = color\n",
    "\n",
    "print(Circle.radius)\n",
    "\n",
    "my_circle = Circle(\"Blue\")\n",
    "your_circle = Circle(\"Green\")\n",
    "\n",
    "print(my_circle.radius)\n",
    "print(your_circle.radius)\n",
    "\n",
    "Circle.radius = 10  # change value of class attribute\n",
    "\n",
    "print(Circle.radius)\n",
    "print(my_circle.radius)\n",
    "print(your_circle.radius)"
   ]
  },
  {
   "cell_type": "code",
   "execution_count": null,
   "metadata": {},
   "outputs": [],
   "source": [
    "class Pizza:\n",
    "\n",
    "    price = 12.99\n",
    "\n",
    "    def __init__(self, description, toppings, crust):\n",
    "        self.description = description\n",
    "        self.toppings  = toppings\n",
    "        self.crust = crust\n",
    "\n",
    "print(Pizza.price)\n",
    "\n",
    "my_pizza = Pizza(\"Margherita\", [\"Basile\", \"Mashrooms\"], \"New Yourk Style\")\n",
    "\n",
    "print(my_pizza.price)\n",
    "\n",
    "Pizza.price = 13.99\n",
    "\n",
    "print(Pizza.price)\n",
    "print(my_pizza.price)"
   ]
  },
  {
   "cell_type": "code",
   "execution_count": 10,
   "metadata": {},
   "outputs": [
    {
     "name": "stdout",
     "output_type": "stream",
     "text": [
      "10\n",
      "10\n",
      "15\n",
      "15\n"
     ]
    }
   ],
   "source": [
    "class Backpack:\n",
    "\n",
    "    max_num_items = 10\n",
    "\n",
    "    def __init__(self):\n",
    "        self.items = []\n",
    "\n",
    "print(Backpack.max_num_items)\n",
    "\n",
    "my_backpack = Backpack()\n",
    "print(my_backpack.max_num_items)\n",
    "\n",
    "# Change number of items in the class\n",
    "Backpack.max_num_items = 15\n",
    "\n",
    "print(Backpack.max_num_items)\n",
    "print(my_backpack.max_num_items)"
   ]
  }
 ],
 "metadata": {
  "kernelspec": {
   "display_name": "Python 3",
   "language": "python",
   "name": "python3"
  },
  "language_info": {
   "codemirror_mode": {
    "name": "ipython",
    "version": 3
   },
   "file_extension": ".py",
   "mimetype": "text/x-python",
   "name": "python",
   "nbconvert_exporter": "python",
   "pygments_lexer": "ipython3",
   "version": "3.11.0"
  }
 },
 "nbformat": 4,
 "nbformat_minor": 2
}
