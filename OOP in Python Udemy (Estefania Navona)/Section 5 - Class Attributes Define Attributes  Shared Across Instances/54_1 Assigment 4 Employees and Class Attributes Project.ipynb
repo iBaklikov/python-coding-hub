{
 "cells": [
  {
   "cell_type": "code",
   "execution_count": 1,
   "metadata": {},
   "outputs": [
    {
     "name": "stdout",
     "output_type": "stream",
     "text": [
      "\n",
      "========= Welcome to our Payroll System =========\n",
      "\n",
      "Jack's salary is: $58.33\n",
      "Isabel's salary is: $58.33\n",
      "Nora's salary is: $26.67\n",
      "\n",
      "The total payroll this month will be: $ 143.32999999999998\n"
     ]
    }
   ],
   "source": [
    "class Programmer:\n",
    "    \n",
    "     # Add the class attributes\n",
    "    salary = 100 \n",
    "    monthly_bonus = 50\n",
    "\n",
    "    \n",
    "    def __init__(self, name, age, address, phone, programming_languages):\n",
    "        self.name = name\n",
    "        self.age = age\n",
    "        self.address = address\n",
    "        self.phone = phone\n",
    "        self.programming_languages = programming_languages\n",
    " \n",
    " \n",
    "class Assistant:\n",
    "    \n",
    "    # Add the class attributes\n",
    "    salary = 80\n",
    "    monthly_bonus = 20\n",
    "    \n",
    "    def __init__(self, name, age, address, phone, is_bilingual):\n",
    "        self.name = name\n",
    "        self.age = age\n",
    "        self.address = address\n",
    "        self.phone = phone\n",
    "        self.is_bilingual = is_bilingual\n",
    " \n",
    " \n",
    "# Function that prints the monthly salary of each worker\n",
    "# and the total amount that the startup owner has to pay per month.\n",
    "def calculate_payroll(employees):\n",
    " \n",
    "    total = 0\n",
    " \n",
    "    print(\"\\n========= Welcome to our Payroll System =========\\n\")\n",
    " \n",
    "    # Iterate over the list of instances to calculate\n",
    "    # and display the monthly salary of each employee,\n",
    "    # and add the monthly salary to the total for this month.\n",
    "    for employee in employees:\n",
    "        salary = round(employee.salary / 12, 2) + employee.monthly_bonus\n",
    "        print(employee.name.capitalize() + \"'s salary is: $\" + str(salary))\n",
    "        total += salary\n",
    " \n",
    "    # Display the total\n",
    "    print(\"\\nThe total payroll this month will be: $\", total)\n",
    " \n",
    "# Instances (employees)\n",
    "jack = Programmer(\"Jack\", 45, \"5th Avenue\", \"555-563-345\", [\"Python\", \"Java\"])\n",
    "isabel = Programmer(\"Isabel\", 25, \"6th Avenue\", \"234-245-853\", [\"JavaScript\"])\n",
    "nora = Assistant(\"Nora\", 23, \"7th Avenue\", \"562-577-333\", True)\n",
    " \n",
    "# List of instances\n",
    "employees = [jack, isabel, nora]\n",
    " \n",
    "# Function call (Passing the list of instances as argument)\n",
    "calculate_payroll(employees)\n"
   ]
  }
 ],
 "metadata": {
  "kernelspec": {
   "display_name": "Python 3",
   "language": "python",
   "name": "python3"
  },
  "language_info": {
   "codemirror_mode": {
    "name": "ipython",
    "version": 3
   },
   "file_extension": ".py",
   "mimetype": "text/x-python",
   "name": "python",
   "nbconvert_exporter": "python",
   "pygments_lexer": "ipython3",
   "version": "3.11.0"
  }
 },
 "nbformat": 4,
 "nbformat_minor": 2
}
