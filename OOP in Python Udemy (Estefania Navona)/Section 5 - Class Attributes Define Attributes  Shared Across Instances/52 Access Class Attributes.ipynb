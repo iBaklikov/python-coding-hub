{
 "cells": [
  {
   "cell_type": "markdown",
   "metadata": {},
   "source": [
    "# Outside the Class\n",
    "\n",
    "<ClassName>.<class_attribute>\n",
    "\n"
   ]
  },
  {
   "cell_type": "code",
   "execution_count": 1,
   "metadata": {},
   "outputs": [
    {
     "name": "stdout",
     "output_type": "stream",
     "text": [
      "Canis lupus\n"
     ]
    }
   ],
   "source": [
    "class Dog:\n",
    "\n",
    "    species = \"Canis lupus\"\n",
    "\n",
    "    def __init__(self, name, age, breed):\n",
    "        self.name = name\n",
    "        self.age = age\n",
    "        self.breed = breed\n",
    "\n",
    "print(Dog.species)"
   ]
  },
  {
   "cell_type": "markdown",
   "metadata": {},
   "source": [
    "# Inside the class\n",
    "\n",
    "<ClassName>,<class_attribute>"
   ]
  },
  {
   "cell_type": "code",
   "execution_count": 2,
   "metadata": {},
   "outputs": [
    {
     "name": "stdout",
     "output_type": "stream",
     "text": [
      "1\n",
      "2\n"
     ]
    }
   ],
   "source": [
    "class Movie:\n",
    "\n",
    "    id_counter = 1\n",
    "\n",
    "    def __init__(self, title, rating):\n",
    "        self.id = Movie.id_counter \n",
    "        self.title = title\n",
    "        self.rating = rating\n",
    "\n",
    "        Movie.id_counter += 1\n",
    "\n",
    "my_movie = Movie(\"Sence and Sensibility\", 4.5)\n",
    "your_movie = Movie(\"Legend of the Fall\", 4.7)\n",
    "\n",
    "print(my_movie.id)\n",
    "\n",
    "print(your_movie.id)"
   ]
  },
  {
   "cell_type": "code",
   "execution_count": 4,
   "metadata": {},
   "outputs": [
    {
     "name": "stdout",
     "output_type": "stream",
     "text": [
      "10\n",
      "10\n",
      "10\n"
     ]
    }
   ],
   "source": [
    "class Backpack:\n",
    "\n",
    "    max_num_items = 10\n",
    "\n",
    "    def __init__(self):\n",
    "        self.items = []\n",
    "\n",
    "my_backpack = Backpack()\n",
    "your_backpack = Backpack()\n",
    "\n",
    "print(Backpack.max_num_items)\n",
    "\n",
    "print(my_backpack.max_num_items)\n",
    "print(your_backpack.max_num_items)\n"
   ]
  }
 ],
 "metadata": {
  "kernelspec": {
   "display_name": "Python 3",
   "language": "python",
   "name": "python3"
  },
  "language_info": {
   "codemirror_mode": {
    "name": "ipython",
    "version": 3
   },
   "file_extension": ".py",
   "mimetype": "text/x-python",
   "name": "python",
   "nbconvert_exporter": "python",
   "pygments_lexer": "ipython3",
   "version": "3.11.0"
  }
 },
 "nbformat": 4,
 "nbformat_minor": 2
}
