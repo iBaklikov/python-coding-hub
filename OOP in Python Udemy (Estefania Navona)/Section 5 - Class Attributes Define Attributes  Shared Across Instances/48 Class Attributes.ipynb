{
 "cells": [
  {
   "cell_type": "markdown",
   "metadata": {},
   "source": [
    "# Class Attributes:\n",
    "- They belong to the class and all instances share the same class attribute. There is only one copy of the attribute.\n",
    "- For example: if we want our class to keep track of how many accounts have been created, the BankAccount class could have a accounts_created class attribute and all the instances of this class would access that same value.\n",
    "- The value of a class attribute is shared across instances. They all access the value from the same source, the class.\n",
    "- Changing the value of a class attribute affects all instances, since they take the value from the same source.\n",
    "- You can access and modify the values of class attributes.\n",
    "- The value of a class attribute can be accessed using the name of the class. No instance is required to access class attributes"
   ]
  },
  {
   "cell_type": "markdown",
   "metadata": {},
   "source": []
  },
  {
   "cell_type": "markdown",
   "metadata": {},
   "source": []
  }
 ],
 "metadata": {
  "kernelspec": {
   "display_name": "Python 3",
   "language": "python",
   "name": "python3"
  },
  "language_info": {
   "name": "python",
   "version": "3.11.0"
  }
 },
 "nbformat": 4,
 "nbformat_minor": 2
}
