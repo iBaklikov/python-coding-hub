{
 "cells": [
  {
   "cell_type": "markdown",
   "metadata": {},
   "source": [
    "# Class Attributes:\n",
    "- They belong to the class and all instances share the same class attribute. There is only one copy of the attribute.\n",
    "- For example: if we want our class to keep track of how many accounts have been created, the BankAccount class could have a accounts_created class attribute and all the instances of this class would access that same value.\n",
    "- The value of a class attribute is shared across instances. They all access the value from the same source, the class.\n",
    "- Changing the value of a class attribute affects all instances, since they take the value from the same source.\n",
    "- You can access and modify the values of class attributes.\n",
    "- The value of a class attribute can be accessed using the name of the class. No instance is required to access class attributes"
   ]
  },
  {
   "cell_type": "markdown",
   "metadata": {},
   "source": [
    "# Class Attributes vs. Instance Attributes\n",
    "## Class Atributes\n",
    "- they belong to the class\n",
    "- There is only one copy of each class attribute\n",
    "- Changing their value affects all the instances of the class because they take the value from the same source\n",
    "\n",
    "## Instance Attributes\n",
    "- They belong to the instances\n",
    "- Every instance has the copy of attribute\n",
    "- Changing their value only affects a particlar instance. Others instance remain unchanged.\n"
   ]
  },
  {
   "cell_type": "markdown",
   "metadata": {},
   "source": [
    "# Define Class Attribute\n",
    "\n",
    "<class_attribute> = <value>\n",
    "\n",
    "- they defined bfore __init__ and indented to the cloass\n",
    "\n",
    "class ClassName:\n",
    "    # Class Attributes\n",
    "\n",
    "    # __init__()\n",
    "\n",
    "    # Methods"
   ]
  },
  {
   "cell_type": "code",
   "execution_count": null,
   "metadata": {},
   "outputs": [],
   "source": [
    "class Dog:\n",
    "\n",
    "    spevies = \"Canis lupus\" # class attribute\n",
    "\n",
    "    def __init__(self, name, age, breed):\n",
    "        self.name = name\n",
    "        self.age = age\n",
    "        self.breed = breed"
   ]
  },
  {
   "cell_type": "code",
   "execution_count": null,
   "metadata": {},
   "outputs": [],
   "source": [
    "class Backpack:\n",
    "\n",
    "    max_num_items = 10\n",
    "\n",
    "    def __init__(self):\n",
    "        self.items = []"
   ]
  }
 ],
 "metadata": {
  "kernelspec": {
   "display_name": "Python 3",
   "language": "python",
   "name": "python3"
  },
  "language_info": {
   "name": "python",
   "version": "3.11.0"
  }
 },
 "nbformat": 4,
 "nbformat_minor": 2
}
