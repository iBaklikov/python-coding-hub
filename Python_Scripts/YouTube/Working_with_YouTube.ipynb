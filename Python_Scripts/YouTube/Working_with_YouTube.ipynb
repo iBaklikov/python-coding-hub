{
 "cells": [
  {
   "cell_type": "code",
   "execution_count": 2,
   "id": "de13eb99",
   "metadata": {},
   "outputs": [
    {
     "name": "stdout",
     "output_type": "stream",
     "text": [
      "Requirement already satisfied: yt-dlp in c:\\users\\igorb\\onedrive\\documents\\dev\\python-coding-hub\\.venv\\lib\\site-packages (2025.6.30)\n",
      "Note: you may need to restart the kernel to use updated packages.\n",
      "Requirement already satisfied: ffmpeg in c:\\users\\igorb\\onedrive\\documents\\dev\\python-coding-hub\\.venv\\lib\\site-packages (1.4)\n",
      "Note: you may need to restart the kernel to use updated packages.\n",
      "                                                           \r"
     ]
    }
   ],
   "source": [
    "# ...existing code...\n",
    "%pip install yt-dlp\n",
    "%pip install ffmpeg \n",
    "import yt_dlp\n",
    "\n",
    "def download_youtube_video(url, output_path='.'):\n",
    "    ydl_opts = {\n",
    "        'format': 'bestvideo+bestaudio/best',\n",
    "        'outtmpl': f'{output_path}/%(title)s.%(ext)s',\n",
    "        'merge_output_format': 'mp4',\n",
    "        'quiet': True,\n",
    "    }\n",
    "    with yt_dlp.YoutubeDL(ydl_opts) as ydl:\n",
    "        ydl.download([url])\n",
    "\n",
    "# Example usage:\n",
    "# download_youtube_video('https://www.youtube.com/watch?v=YOUR_VIDEO_ID')\n",
    "# download_youtube_video('https://www.youtube.com/playlist?list=YOUR_PLAYLIST_ID')\n",
    "\n",
    "# The following block is for script usage, not for Jupyter Notebooks.\n",
    "# In a notebook, just call download_youtube_video directly.\n",
    "# Remove or comment out the __main__ block for notebook compatibility.\n",
    "\n",
    "# if __name__ == \"__main__\":\n",
    "#     import sys\n",
    "#     if len(sys.argv) < 2:\n",
    "#         print(\"Usage: python download_youtube_video.py <video_url> [output_path]\")\n",
    "#     else:\n",
    "#         video_url = r'https://youtu.be/4y9wCASRqak?si=xgV0ex1Y1I79XHf7'\n",
    "#         output_path = 'Python_Scripts\\\\YouTube'\n",
    "#         download_youtube_video(video_url, output_path)\n",
    "\n",
    "# For notebook usage, run this cell:\n",
    "video_url = 'https://youtu.be/SqtFgAwtNSE?si=afUV3zT9U0hiRbye'\n",
    "output_path = 'Python_Scripts/YouTube'\n",
    "download_youtube_video(video_url, output_path)\n",
    "# ...existing code..."
   ]
  },
  {
   "cell_type": "code",
   "execution_count": null,
   "id": "c7aa0eda",
   "metadata": {},
   "outputs": [],
   "source": [
    "from pytube import YouTube\n",
    "\n",
    "def download_video(url: str, output_path: str):\n",
    "    yt = YouTube(url)\n",
    "    stream = yt.streams.filter(progressive=True, file_extension='mp4').order_by('resolution').desc().first()\n",
    "    if stream:\n",
    "        stream.download(output_path)\n",
    "    else:\n",
    "        print(\"No compatible stream found\")\n",
    "\n",
    "if __name__ == '__main__':\n",
    "    clean_url = 'https://www.youtube.com/watch?v=4y9wCASRqak'\n",
    "    download_video(clean_url, 'downloads')\n",
    "\n",
    "    print(f\"An error occurred: {e}\")\n"
   ]
  },
  {
   "cell_type": "code",
   "execution_count": 4,
   "id": "f9b95fa4",
   "metadata": {},
   "outputs": [
    {
     "name": "stdout",
     "output_type": "stream",
     "text": [
      "Error occurred: HTTP Error 400: Bad Request\n"
     ]
    }
   ],
   "source": [
    "from pytube import YouTube\n",
    "\n",
    "try:\n",
    "    url = \"https://www.youtube.com/watch?v=4y9wCASRqak\"\n",
    "    yt = YouTube(url)\n",
    "    stream = yt.streams.filter(progressive=True, file_extension='mp4').order_by('resolution').desc().first()\n",
    "    if stream:\n",
    "        stream.download(output_path=\"downloads\")\n",
    "    else:\n",
    "        print(\"No suitable stream found.\")\n",
    "except Exception as e:\n",
    "    print(\"Error occurred:\", e)"
   ]
  }
 ],
 "metadata": {
  "kernelspec": {
   "display_name": ".venv",
   "language": "python",
   "name": "python3"
  },
  "language_info": {
   "codemirror_mode": {
    "name": "ipython",
    "version": 3
   },
   "file_extension": ".py",
   "mimetype": "text/x-python",
   "name": "python",
   "nbconvert_exporter": "python",
   "pygments_lexer": "ipython3",
   "version": "3.12.10"
  }
 },
 "nbformat": 4,
 "nbformat_minor": 5
}
