{
 "cells": [
  {
   "cell_type": "markdown",
   "metadata": {},
   "source": [
    "# Generating a large amount of image data\n"
   ]
  },
  {
   "cell_type": "code",
   "execution_count": 5,
   "metadata": {},
   "outputs": [
    {
     "ename": "AttributeError",
     "evalue": "module 'simple_image_download.simple_image_download' has no attribute 'simple_image_download'",
     "output_type": "error",
     "traceback": [
      "\u001b[1;31m---------------------------------------------------------------------------\u001b[0m",
      "\u001b[1;31mAttributeError\u001b[0m                            Traceback (most recent call last)",
      "Cell \u001b[1;32mIn [5], line 5\u001b[0m\n\u001b[0;32m      2\u001b[0m \u001b[38;5;28;01mfrom\u001b[39;00m \u001b[38;5;21;01msimple_image_download\u001b[39;00m \u001b[38;5;28;01mimport\u001b[39;00m simple_image_download \n\u001b[0;32m      4\u001b[0m \u001b[38;5;66;03m# Creating a response object\u001b[39;00m\n\u001b[1;32m----> 5\u001b[0m response \u001b[38;5;241m=\u001b[39m \u001b[43msimple_image_download\u001b[49m\u001b[38;5;241;43m.\u001b[39;49m\u001b[43msimple_image_download\u001b[49m()\n\u001b[0;32m      7\u001b[0m \u001b[38;5;66;03m## Keyword\u001b[39;00m\n\u001b[0;32m      8\u001b[0m keyword \u001b[38;5;241m=\u001b[39m \u001b[38;5;124m\"\u001b[39m\u001b[38;5;124mDog\u001b[39m\u001b[38;5;124m\"\u001b[39m\n",
      "\u001b[1;31mAttributeError\u001b[0m: module 'simple_image_download.simple_image_download' has no attribute 'simple_image_download'"
     ]
    }
   ],
   "source": [
    "# Importing the necessary module and function\n",
    "from simple_image_download import simple_image_download \n",
    "\n",
    "# Creating a response object\n",
    "response = simple_image_download.simple_image_download()\n",
    "\n",
    "## Keyword\n",
    "keyword = \"Dog\"\n",
    "\n",
    "# Downloading images\n",
    "try:\n",
    "    response().download(keyword, 5)\n",
    "    print(\"Images downloaded successfully.\")\n",
    "except Exception as e:\n",
    "    print(\"An error occurred:\", e)"
   ]
  }
 ],
 "metadata": {
  "kernelspec": {
   "display_name": "Python 3",
   "language": "python",
   "name": "python3"
  },
  "language_info": {
   "codemirror_mode": {
    "name": "ipython",
    "version": 3
   },
   "file_extension": ".py",
   "mimetype": "text/x-python",
   "name": "python",
   "nbconvert_exporter": "python",
   "pygments_lexer": "ipython3",
   "version": "3.9.13"
  }
 },
 "nbformat": 4,
 "nbformat_minor": 2
}
